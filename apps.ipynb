{
 "cells": [
  {
   "cell_type": "markdown",
   "metadata": {},
   "source": [
    "## Create the Web Application Skeleton"
   ]
  },
  {
   "cell_type": "code",
   "execution_count": null,
   "metadata": {},
   "outputs": [],
   "source": [
    "%%writefile app.py\n",
    "from flask import Flask\n",
    "from flask_sqlalchemy import SQLAlchemy\n",
    "\n",
    "app = Flask(__name__)\n",
    "app.config['SECRET_KEY'] = \"secret-key-123\"\n",
    "app.config['SQLALCHEMY_DATABASE_URI'] = 'sqlite:///data.db'\n",
    "\n",
    "db = SQLAlchemy(app)\n",
    "\n",
    "from routes import *\n",
    "\n",
    "if __name__ == \"__main__\":\n",
    "    app.run(debug=True)"
   ]
  },
  {
   "cell_type": "markdown",
   "metadata": {},
   "source": [
    "## Create route modules in Web Application"
   ]
  },
  {
   "cell_type": "code",
   "execution_count": null,
   "metadata": {},
   "outputs": [],
   "source": [
    "%%writefile routes.py\n",
    "from app import app, db\n",
    "from flask import render_template, redirect, url_for, flash, get_flashed_messages\n",
    "\n",
    "from datetime import datetime\n",
    "\n",
    "from models import Task\n",
    "import forms\n",
    "\n",
    "@app.route('/')\n",
    "@app.route('/index')\n",
    "def index():\n",
    "    tasks = Task.query.all()\n",
    "    return render_template(\"index.html\",tasks=tasks)\n",
    "\n",
    "@app.route(\"/add\", methods=['GET', 'POST'])\n",
    "def add():\n",
    "    form = forms.AddTaskForm()\n",
    "    if form.validate_on_submit():\n",
    "        task = Task(title=form.title.data, date=datetime.utcnow())\n",
    "        db.session.add(task)\n",
    "        db.session.commit()\n",
    "        flash(\"Task added\")\n",
    "        return redirect(url_for('index'))\n",
    "    return render_template(\"add.html\", form=form)\n",
    "\n",
    "@app.route(\"/edit/<int:task_id>\", methods=['GET', 'POST'])\n",
    "def edit(task_id):\n",
    "    form = forms.AddTaskForm()\n",
    "    task = Task.query.get(task_id)\n",
    "    print(task)\n",
    "    \n",
    "    if task:\n",
    "        if form.validate_on_submit():\n",
    "            task.title = form.title.data\n",
    "            task.datetime = datetime.utcnow()\n",
    "            db.session.commit()\n",
    "            flash(\"Task updated\")\n",
    "            return redirect(url_for('index'))\n",
    "        form.title.data = task.title\n",
    "        return render_template(\"edit.html\", form=form, task_id=task_id)\n",
    "    else:\n",
    "        flash(f'Task with id {task_id} does not exit!')\n",
    "    return redirect(url_for('index'))\n",
    "\n",
    "@app.route(\"/delete/<int:task_id>\", methods=['GET', 'POST'])\n",
    "def delete(task_id):\n",
    "    form = forms.DeleteTaskForm()\n",
    "    task = Task.query.get(task_id)\n",
    "        \n",
    "    if task:\n",
    "        if form.validate_on_submit():\n",
    "            if form.submit.data:\n",
    "                db.session.delete(task)\n",
    "                db.session.commit()\n",
    "                flash(f'Task with id {task_id} deleted')\n",
    "            return redirect(url_for('index'))\n",
    "        return render_template(\"delete.html\", form=form, task_id=task_id, title=task.title)\n",
    "    else:\n",
    "        flash(f'Task with id {task_id} does not exit!')\n",
    "\n",
    "    return redirect(url_for('index'))"
   ]
  },
  {
   "cell_type": "markdown",
   "metadata": {},
   "source": [
    "## Create the form for Web App"
   ]
  },
  {
   "cell_type": "code",
   "execution_count": null,
   "metadata": {},
   "outputs": [],
   "source": [
    "%%writefile forms.py\n",
    "from flask_wtf import FlaskForm\n",
    "from wtforms import StringField, SubmitField\n",
    "from wtforms.validators import DataRequired\n",
    "\n",
    "class AddTaskForm(FlaskForm):\n",
    "    title = StringField('Title', validators=[DataRequired()])\n",
    "    submit = SubmitField('Submit')\n",
    "    \n",
    "class DeleteTaskForm(FlaskForm):\n",
    "    submit = SubmitField('Delete')"
   ]
  },
  {
   "cell_type": "markdown",
   "metadata": {},
   "source": [
    "## Create Data Model"
   ]
  },
  {
   "cell_type": "code",
   "execution_count": null,
   "metadata": {},
   "outputs": [],
   "source": [
    "%%writefile models.py\n",
    "from app import db\n",
    "\n",
    "class Task(db.Model):\n",
    "    id = db.Column(db.Integer, primary_key=True)\n",
    "    title = db.Column(db.String(100), nullable=False)\n",
    "    date = db.Column(db.Date, nullable=False )\n",
    "    \n",
    "    def __repr__(self):\n",
    "        return f'{self.title} created on {self.date}'"
   ]
  },
  {
   "cell_type": "markdown",
   "metadata": {},
   "source": [
    "## Script to intialize to create the db"
   ]
  },
  {
   "cell_type": "code",
   "execution_count": null,
   "metadata": {},
   "outputs": [],
   "source": [
    "%%writefile script.py\n",
    "\n",
    "from models import db\n",
    "\n",
    "db.create_all()\n",
    "\n",
    "from models import Task\n",
    "from datetime import datetime\n",
    "\n",
    "t = Task(title='xyz', date=datetime.utcnow())\n",
    "print(t)\n",
    "\n",
    "db.session.add(t)\n",
    "db.session.commit()\n",
    "\n",
    "tasks = Task.query.all()\n",
    "tasks"
   ]
  }
 ],
 "metadata": {
  "kernelspec": {
   "display_name": "Python 3",
   "language": "python",
   "name": "python3"
  },
  "language_info": {
   "codemirror_mode": {
    "name": "ipython",
    "version": 3
   },
   "file_extension": ".py",
   "mimetype": "text/x-python",
   "name": "python",
   "nbconvert_exporter": "python",
   "pygments_lexer": "ipython3",
   "version": "3.7.7"
  }
 },
 "nbformat": 4,
 "nbformat_minor": 4
}
